{
 "cells": [
  {
   "cell_type": "markdown",
   "metadata": {
    "ein.tags": "worksheet-0",
    "slideshow": {
     "slide_type": "-"
    }
   },
   "source": [
    "# Making HTTP Requests\n",
    "\n",
    "In Python, there are many libraries to make HTTP requests. We will use a 3rd-party library called \"requests\", which is very easy to use. \n",
    "\n",
    "Making a \"GET\" request is as simple as: \n",
    "\n",
    "```python\n",
    "import requests\n",
    "\n",
    "res = requests.get(url) # returns a \"Response\" object\n",
    "res.content # has the \"body\" of the response\n",
    "```\n",
    "\n",
    "You might need to install the requests library! \n",
    "\n",
    "You can do that with the following code in a Jupyter cell: \n",
    "\n",
    "```python\n",
    "! pip install requests\n",
    "```\n",
    "\n",
    "Or, if you're using anaconda, optionally you can also do: \n",
    "\n",
    "```python\n",
    "! conda install -c anaconda requests\n",
    "```"
   ]
  },
  {
   "cell_type": "markdown",
   "metadata": {
    "ein.tags": "worksheet-0",
    "slideshow": {
     "slide_type": "-"
    }
   },
   "source": [
    "## Parsing JSON data\n",
    "\n",
    "To parse JSON data in Python, we will use the \"json\" module: \n",
    "\n",
    "```python\n",
    "import json\n",
    "```\n",
    "\n",
    "Read more about the module on the [documentation page](https://docs.python.org/3/library/json.html)!\n",
    "\n",
    "All we care about for this part is the method \"loads\", which turns JSON data into a Python object: \n",
    "\n",
    "```python\n",
    "json.loads(my_string_encoded_json)\n",
    "```"
   ]
  },
  {
   "cell_type": "markdown",
   "metadata": {
    "ein.tags": "worksheet-0",
    "slideshow": {
     "slide_type": "-"
    }
   },
   "source": [
    "## Pokemon API\n",
    "\n",
    "There is a simple, open API called \"pokeapi\" that allows us to make requests and see how to use APIs. Like everything, we first look at the documentation: \n",
    "\n",
    "https://pokeapi.co/docs/v2.html"
   ]
  },
  {
   "cell_type": "code",
   "execution_count": null,
   "metadata": {
    "autoscroll": false,
    "ein.hycell": false,
    "ein.tags": "worksheet-0",
    "slideshow": {
     "slide_type": "-"
    }
   },
   "outputs": [],
   "source": [
    "# Let's see how to make a get request to the API: \n",
    "import requests\n",
    "import json\n",
    "\n",
    "# res = requests.get('https://pokeapi.co/api/v2/pokemon')\n",
    "res = requests.get('https://pokeapi.co/api/v2/pokemon?offset=20&limit=20')\n",
    "json.loads(res.content)"
   ]
  },
  {
   "cell_type": "code",
   "execution_count": null,
   "metadata": {
    "autoscroll": false,
    "ein.hycell": false,
    "ein.tags": "worksheet-0",
    "slideshow": {
     "slide_type": "-"
    }
   },
   "outputs": [],
   "source": [
    "# Challenge: \n",
    "# Create a Dataframe with all the Pokemon names and their URLs. \n",
    "\n",
    "def get_pokes(url):\n",
    "    # Make the HTTP request to the given url. \n",
    "    # Parse the response as json\n",
    "    # return the \"next\" and the \"results\" (as a 2-tuple!)\n",
    "    # make sure to return a \"falsey\" value (such as None)\n",
    "    # if there is not a \"next!\"\n",
    "    content = requests.get(url).content\n",
    "    d = json.loads(content)\n",
    "    return d['next'], d ['results']\n",
    "    pass\n",
    "\n",
    "def catch_em_all(url):\n",
    "    pokes = []\n",
    "    # While loop! Like a for-loop, \n",
    "    # but goes on for an indetermined amount\n",
    "    # of time:\n",
    "    while url:\n",
    "        url, results = get_pokes(url)\n",
    "        pokes += results\n",
    "    return pokes\n",
    "        \n",
    "    \n",
    "list_of_pokes = catch_em_all('https://pokeapi.co/api/v2/pokemon')\n",
    "\n",
    "# This data is most naturally represented as a list of dictionaries. \n",
    "# How can we create a dataframe from a list of dictionaries? \n",
    "# Try to find out on your own, from the internet!\n",
    "\n",
    "# TODO: turn list_of_pokes into a dataframe.\n",
    "\n",
    "len(list_of_pokes)"
   ]
  },
  {
   "cell_type": "markdown",
   "metadata": {
    "ein.tags": "worksheet-0",
    "slideshow": {
     "slide_type": "-"
    }
   },
   "source": [
    "## Project: Live Exchange Rates\n",
    "\n",
    "Imagine that you work with financial assets which are denominated in different currencies. You analyze this data regularly, and want to create a \"transformation\" function that transforms all your assets into EUR prices, based on today's exchange rate. \n",
    "\n",
    "Your data with the local-currency-denominated value of each asset lives in a file called \"assets.csv\" which should be located in the same folder as this notebook. \n",
    "\n",
    "Write a \"data loading\" function that: \n",
    "\n",
    "1. Reads the data, given the path to the file. \n",
    "2. Returns a dataframe with an additional column that has the assets value in euros, as of today.\n",
    "\n",
    "Use this free API to get today's exchange rates: https://exchangeratesapi.io/. You will need to read the documentation and try it out to see how it works. \n",
    "\n",
    "HINT: Write a separate function to get the current exchange rates! That can be reused!"
   ]
  },
  {
   "cell_type": "code",
   "execution_count": 2,
   "metadata": {},
   "outputs": [
    {
     "data": {
      "text/html": [
       "<div>\n",
       "<style scoped>\n",
       "    .dataframe tbody tr th:only-of-type {\n",
       "        vertical-align: middle;\n",
       "    }\n",
       "\n",
       "    .dataframe tbody tr th {\n",
       "        vertical-align: top;\n",
       "    }\n",
       "\n",
       "    .dataframe thead th {\n",
       "        text-align: right;\n",
       "    }\n",
       "</style>\n",
       "<table border=\"1\" class=\"dataframe\">\n",
       "  <thead>\n",
       "    <tr style=\"text-align: right;\">\n",
       "      <th></th>\n",
       "      <th>value</th>\n",
       "      <th>curr</th>\n",
       "      <th>in_euros_please</th>\n",
       "    </tr>\n",
       "  </thead>\n",
       "  <tbody>\n",
       "    <tr>\n",
       "      <td>0</td>\n",
       "      <td>48.910052</td>\n",
       "      <td>THB</td>\n",
       "      <td>1.452716</td>\n",
       "    </tr>\n",
       "    <tr>\n",
       "      <td>1</td>\n",
       "      <td>16.505115</td>\n",
       "      <td>THB</td>\n",
       "      <td>0.490232</td>\n",
       "    </tr>\n",
       "    <tr>\n",
       "      <td>2</td>\n",
       "      <td>30.370579</td>\n",
       "      <td>INR</td>\n",
       "      <td>0.383891</td>\n",
       "    </tr>\n",
       "    <tr>\n",
       "      <td>3</td>\n",
       "      <td>14.126967</td>\n",
       "      <td>SEK</td>\n",
       "      <td>1.314161</td>\n",
       "    </tr>\n",
       "    <tr>\n",
       "      <td>4</td>\n",
       "      <td>23.406904</td>\n",
       "      <td>HKD</td>\n",
       "      <td>2.678105</td>\n",
       "    </tr>\n",
       "    <tr>\n",
       "      <td>...</td>\n",
       "      <td>...</td>\n",
       "      <td>...</td>\n",
       "      <td>...</td>\n",
       "    </tr>\n",
       "    <tr>\n",
       "      <td>995</td>\n",
       "      <td>13.593894</td>\n",
       "      <td>HRK</td>\n",
       "      <td>1.822751</td>\n",
       "    </tr>\n",
       "    <tr>\n",
       "      <td>996</td>\n",
       "      <td>41.710860</td>\n",
       "      <td>ZAR</td>\n",
       "      <td>2.466347</td>\n",
       "    </tr>\n",
       "    <tr>\n",
       "      <td>997</td>\n",
       "      <td>12.877760</td>\n",
       "      <td>AUD</td>\n",
       "      <td>7.980269</td>\n",
       "    </tr>\n",
       "    <tr>\n",
       "      <td>998</td>\n",
       "      <td>29.561696</td>\n",
       "      <td>KRW</td>\n",
       "      <td>0.022690</td>\n",
       "    </tr>\n",
       "    <tr>\n",
       "      <td>999</td>\n",
       "      <td>42.034297</td>\n",
       "      <td>RON</td>\n",
       "      <td>8.838162</td>\n",
       "    </tr>\n",
       "  </tbody>\n",
       "</table>\n",
       "<p>1000 rows × 3 columns</p>\n",
       "</div>"
      ],
      "text/plain": [
       "         value curr  in_euros_please\n",
       "0    48.910052  THB         1.452716\n",
       "1    16.505115  THB         0.490232\n",
       "2    30.370579  INR         0.383891\n",
       "3    14.126967  SEK         1.314161\n",
       "4    23.406904  HKD         2.678105\n",
       "..         ...  ...              ...\n",
       "995  13.593894  HRK         1.822751\n",
       "996  41.710860  ZAR         2.466347\n",
       "997  12.877760  AUD         7.980269\n",
       "998  29.561696  KRW         0.022690\n",
       "999  42.034297  RON         8.838162\n",
       "\n",
       "[1000 rows x 3 columns]"
      ]
     },
     "execution_count": 2,
     "metadata": {},
     "output_type": "execute_result"
    }
   ],
   "source": [
    "import pandas as pd\n",
    "import requests\n",
    "import json\n",
    "\n",
    "# function one to get the latest rates out of the api\n",
    "\n",
    "def get_rates():\n",
    "    latestrates = requests.get('https://api.exchangeratesapi.io/latest')\n",
    "    return(json.loads(latestrates.content))\n",
    "\n",
    "# function two to get add a new column in euros through iteration\n",
    "\n",
    "def assets_df(csv):\n",
    "    assetsdata = pd.read_csv(csv)\n",
    "    rates = get_rates()['rates']\n",
    "    new_column = []\n",
    "   \n",
    "    for x in assetsdata.iterrows():\n",
    "        new_column.append(rates[x[1]['curr']])     \n",
    "    \n",
    "    assetsdata['in_euros_please'] = assetsdata['value']/new_column   \n",
    "    \n",
    "    return (assetsdata)\n",
    "\n",
    "\n",
    "assets_df('assets.csv')\n",
    "\n",
    "\n"
   ]
  },
  {
   "cell_type": "code",
   "execution_count": null,
   "metadata": {},
   "outputs": [],
   "source": []
  }
 ],
 "metadata": {
  "kernelspec": {
   "display_name": "Python 3",
   "language": "python",
   "name": "python3"
  },
  "language_info": {
   "codemirror_mode": {
    "name": "ipython",
    "version": 3
   },
   "file_extension": ".py",
   "mimetype": "text/x-python",
   "name": "python",
   "nbconvert_exporter": "python",
   "pygments_lexer": "ipython3",
   "version": "3.7.4"
  },
  "name": "exercises.ipynb",
  "toc": {
   "base_numbering": 1,
   "nav_menu": {},
   "number_sections": true,
   "sideBar": true,
   "skip_h1_title": false,
   "title_cell": "Table of Contents",
   "title_sidebar": "Contents",
   "toc_cell": false,
   "toc_position": {},
   "toc_section_display": true,
   "toc_window_display": false
  }
 },
 "nbformat": 4,
 "nbformat_minor": 2
}
